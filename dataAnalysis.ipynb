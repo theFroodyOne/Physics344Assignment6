{
 "cells": [
  {
   "cell_type": "code",
   "execution_count": 2,
   "outputs": [],
   "source": [
    "import csv\n",
    "import numpy as np\n",
    "import matplotlib.pyplot as plt"
   ],
   "metadata": {
    "collapsed": false,
    "ExecuteTime": {
     "end_time": "2023-10-27T09:45:01.638724138Z",
     "start_time": "2023-10-27T09:45:01.010580415Z"
    }
   },
   "id": "ebbdf752e526a31f"
  },
  {
   "cell_type": "markdown",
   "source": [
    "# Phase 1"
   ],
   "metadata": {
    "collapsed": false
   },
   "id": "545021bbe5fdf2b9"
  },
  {
   "cell_type": "code",
   "execution_count": 49,
   "outputs": [
    {
     "name": "stdout",
     "output_type": "stream",
     "text": [
      "r^2 q: 2.2399234803838737%\n",
      "r^2 p: 58.69950893324809%\n",
      "r^2 v: 5.6798417786243816%\n",
      "r^2 l: nan%\n",
      "r^2 total: nan%\n",
      "r^2 v with p <= 0.2: 74.02953385102967%\n",
      "r^2 q with p <= 0.2: 0.30070692600542975%\n",
      "r^2 p with p <= 0.2: 1.5507690876481885%\n",
      "r^2 q with p >= 0.8: 73.56860925409038%\n",
      "r^2 v with l = 80: 5.6798417786243816%\n",
      "r^2 q with l = 80: 2.2399234803838737%\n",
      "r^2 p with l = 80: 58.69950893324809%\n"
     ]
    }
   ],
   "source": [
    "reader = csv.reader(open(\"./data/phase1/data_fixed_l.csv\", \"r\"))\n",
    "next(reader)\n",
    "data = [row for row in reader]\n",
    "low = 0.2\n",
    "q = [float(datum[0]) for datum in data]\n",
    "lowpq = [float(datum[0]) for datum in data if float(datum[1]) <= low]\n",
    "l80q = [float(datum[0]) for datum in data if int(datum[3]) == 80]\n",
    "highpq = [float(datum[0]) for datum in data if float(datum[1]) >= 0.8]\n",
    "p = [float(datum[1]) for datum in data]\n",
    "lowp = [float(datum[1]) for datum in data if float(datum[1]) <= low]\n",
    "l80p = [float(datum[1]) for datum in data if int(datum[3]) == 80]\n",
    "v = [int(datum[2]) for datum in data]\n",
    "lowpv = [int(datum[2]) for datum in data if float(datum[1]) <= low]\n",
    "l80v = [int(datum[2]) for datum in data if int(datum[3]) == 80]\n",
    "l = [int(datum[3]) for datum in data]\n",
    "timeOnRoad = [float(datum[4]) for datum in data]\n",
    "lowpTOR = [float(datum[4]) for datum in data if float(datum[1]) <= low]\n",
    "l80TOR = [float(datum[4]) for datum in data if int(datum[3]) == 80]\n",
    "highpTOR = [float(datum[4]) for datum in data if float(datum[1]) >= 0.8]\n",
    "print(\"r^2 q: \" + str(np.corrcoef(timeOnRoad, q)[0][1]**2*100) + \"%\")\n",
    "print(\"r^2 p: \" + str(np.corrcoef(timeOnRoad, p)[0][1]**2*100) + \"%\")\n",
    "print(\"r^2 v: \" + str(np.corrcoef(timeOnRoad, v)[0][1]**2*100) + \"%\")\n",
    "print(\"r^2 l: \" + str(np.corrcoef(timeOnRoad, l)[0][1]**2*100) + \"%\")\n",
    "print(\"r^2 total: \" + str(np.corrcoef(timeOnRoad, q)[0][1]**2*100 + np.corrcoef(timeOnRoad, p)[0][1]**2*100 + np.corrcoef(timeOnRoad, v)[0][1]**2*100 + np.corrcoef(timeOnRoad, l)[0][1]**2*100) + \"%\")\n",
    "print(\"r^2 v with p <= 0.2: \" + str(np.corrcoef(lowpTOR, lowpv)[0][1]**2*100) + \"%\")\n",
    "print(\"r^2 q with p <= 0.2: \" + str(np.corrcoef(lowpTOR, lowpq)[0][1]**2*100) + \"%\")\n",
    "print(\"r^2 p with p <= 0.2: \" + str(np.corrcoef(lowpTOR, lowp)[0][1]**2*100) + \"%\")\n",
    "print(\"r^2 q with p >= 0.8: \" + str(np.corrcoef(highpTOR, highpq)[0][1]**2*100) + \"%\")\n",
    "print(\"r^2 v with l = 80: \" + str(np.corrcoef(l80TOR, l80v)[0][1]**2*100) + \"%\")\n",
    "print(\"r^2 q with l = 80: \" + str(np.corrcoef(l80TOR, l80q)[0][1]**2*100) + \"%\")\n",
    "print(\"r^2 p with l = 80: \" + str(np.corrcoef(l80TOR, l80p)[0][1]**2*100) + \"%\")"
   ],
   "metadata": {
    "collapsed": false,
    "ExecuteTime": {
     "end_time": "2023-10-27T11:00:49.332605992Z",
     "start_time": "2023-10-27T11:00:49.325059636Z"
    }
   },
   "id": "81f4900e82e8c61e"
  },
  {
   "cell_type": "code",
   "execution_count": 54,
   "outputs": [
    {
     "data": {
      "text/plain": "<Figure size 640x480 with 1 Axes>",
      "image/png": "[encoded data removed]"
     },
     "metadata": {},
     "output_type": "display_data"
    }
   ],
   "source": [
    "plt.scatter(highpq, highpTOR)\n",
    "plt.savefig(\"./data/phase1/q_vs_timeOnRoad_l=80_highp.png\")"
   ],
   "metadata": {
    "collapsed": false,
    "ExecuteTime": {
     "end_time": "2023-10-27T11:02:41.096130013Z",
     "start_time": "2023-10-27T11:02:40.958971143Z"
    }
   },
   "id": "ba90e7dc441cc794"
  }
 ],
 "metadata": {
  "kernelspec": {
   "display_name": "Python 3",
   "language": "python",
   "name": "python3"
  },
  "language_info": {
   "codemirror_mode": {
    "name": "ipython",
    "version": 2
   },
   "file_extension": ".py",
   "mimetype": "text/x-python",
   "name": "python",
   "nbconvert_exporter": "python",
   "pygments_lexer": "ipython2",
   "version": "2.7.6"
  }
 },
 "nbformat": 4,
 "nbformat_minor": 5
}
